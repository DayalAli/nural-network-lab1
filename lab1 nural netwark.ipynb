{
 "cells": [
  {
   "cell_type": "code",
   "execution_count": 2,
   "id": "ef92ca2e-2ee6-474e-8ca7-3dcaa8efce72",
   "metadata": {},
   "outputs": [],
   "source": [
    "import numpy as np"
   ]
  },
  {
   "cell_type": "code",
   "execution_count": 3,
   "id": "09820277-a40d-4d11-9863-0d1fe5481df5",
   "metadata": {},
   "outputs": [
    {
     "data": {
      "text/plain": [
       "array([[12, 13, 14],\n",
       "       [13, 13, 78]])"
      ]
     },
     "execution_count": 3,
     "metadata": {},
     "output_type": "execute_result"
    }
   ],
   "source": [
    "matrix=np.array([[12,13,14],[13,13,78]])\n",
    "matrix"
   ]
  },
  {
   "cell_type": "code",
   "execution_count": 4,
   "id": "897abe3b-ff47-46e5-85e6-a214ff0b006d",
   "metadata": {},
   "outputs": [
    {
     "data": {
      "text/plain": [
       "numpy.ndarray"
      ]
     },
     "execution_count": 4,
     "metadata": {},
     "output_type": "execute_result"
    }
   ],
   "source": [
    "type(matrix)"
   ]
  },
  {
   "cell_type": "code",
   "execution_count": 5,
   "id": "66c654f8-ad18-45cc-b5d2-010d51decda8",
   "metadata": {},
   "outputs": [
    {
     "data": {
      "text/plain": [
       "matrix([[12, 13, 14],\n",
       "        [13, 13, 78]])"
      ]
     },
     "execution_count": 5,
     "metadata": {},
     "output_type": "execute_result"
    }
   ],
   "source": [
    "matrix=np.matrix([[12,13,14],[13,13,78]])\n",
    "matrix"
   ]
  },
  {
   "cell_type": "code",
   "execution_count": 6,
   "id": "c9418740-2b38-49a8-8ed8-c03607e19147",
   "metadata": {},
   "outputs": [],
   "source": [
    "import numpy as np\n",
    "def sigmoit(z):\n",
    "    return 1/(1+np.exp(-z))\n",
    "def matrix_multiply(a,b):\n",
    "    return np.dot(a,b)"
   ]
  },
  {
   "cell_type": "code",
   "execution_count": 22,
   "id": "846756c3-754d-40bc-a3d8-ffb210f62b3b",
   "metadata": {},
   "outputs": [
    {
     "name": "stdout",
     "output_type": "stream",
     "text": [
      "1 layer output: [[0.61015329]]\n"
     ]
    }
   ],
   "source": [
    "import numpy as np\n",
    "def sigmoid(z):\n",
    "    return 1 / (1 + np.exp(-z))\n",
    "x = np.array([[1], [2], [3]])\n",
    "w1 = np.array([[0.1, 0.2, 0.3]])  \n",
    "b1 = 0.5\n",
    "z1 = np.dot(w1, x) + b1  \n",
    "a1 = sigmoid(z1)\n",
    "w2 = np.array([[0.4]])\n",
    "b2 = 0.1\n",
    "z2 = np.dot(w2, a1) + b2\n",
    "a2 = sigmoid(z2)\n",
    "print(\"1 layer output:\", a2)\n"
   ]
  },
  {
   "cell_type": "code",
   "execution_count": 10,
   "id": "750f0666-c84e-4d3b-afed-24d550e9b660",
   "metadata": {},
   "outputs": [
    {
     "name": "stdout",
     "output_type": "stream",
     "text": [
      "1 layer output: [[0.61015329]]\n"
     ]
    }
   ],
   "source": [
    "import numpy as np\n",
    "\n",
    "# Sigmoid function\n",
    "def sigmoid(z):\n",
    "    return 1 / (1 + np.exp(-z))\n",
    "\n",
    "# Matrix multiplication function (you can use np.dot directly)\n",
    "def matrix_multiply(a, b):\n",
    "    return np.dot(a, b)\n",
    "\n",
    "# Input data\n",
    "x = np.array([[1], [2], [3]])\n",
    "\n",
    "# Weights and biases for the first layer\n",
    "w1 = np.array([[0.1, 0.2, 0.3]])  # Adjust shape to (1, 3) to align with input\n",
    "b1 = 0.5\n",
    "\n",
    "# First layer calculation\n",
    "z1 = matrix_multiply(w1, x) + b1  # np.dot(w1, x)\n",
    "a1 = sigmoid(z1)\n",
    "\n",
    "# Weights and biases for the second layer\n",
    "w2 = np.array([[0.4]])\n",
    "b2 = 0.1\n",
    "\n",
    "# Second layer calculation\n",
    "z2 = matrix_multiply(w2, a1) + b2\n",
    "a2 = sigmoid(z2)\n",
    "\n",
    "# Output the final result\n",
    "print(\"1 layer output:\", a2)\n"
   ]
  },
  {
   "cell_type": "code",
   "execution_count": 11,
   "id": "a4917c32-0b45-41dd-9872-9f5b1b42a4f3",
   "metadata": {},
   "outputs": [],
   "source": []
  },
  {
   "cell_type": "code",
   "execution_count": null,
   "id": "6034e654-4f9f-48ce-a99d-d69e14438718",
   "metadata": {},
   "outputs": [],
   "source": []
  }
 ],
 "metadata": {
  "kernelspec": {
   "display_name": "Python 3 (ipykernel)",
   "language": "python",
   "name": "python3"
  },
  "language_info": {
   "codemirror_mode": {
    "name": "ipython",
    "version": 3
   },
   "file_extension": ".py",
   "mimetype": "text/x-python",
   "name": "python",
   "nbconvert_exporter": "python",
   "pygments_lexer": "ipython3",
   "version": "3.11.7"
  }
 },
 "nbformat": 4,
 "nbformat_minor": 5
}
